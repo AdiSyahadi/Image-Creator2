{
  "nbformat": 4,
  "nbformat_minor": 0,
  "metadata": {
    "colab": {
      "private_outputs": true,
      "provenance": [],
      "gpuType": "T4"
    },
    "kernelspec": {
      "name": "python3",
      "display_name": "Python 3"
    },
    "language_info": {
      "name": "python"
    },
    "accelerator": "GPU"
  },
  "cells": [
    {
      "cell_type": "code",
      "execution_count": null,
      "metadata": {
        "id": "5VuOGiENo-fn"
      },
      "outputs": [],
      "source": [
        "!pip install diffusers==0.23.0\n",
        "!pip install transformers\n",
        "!pip install accelerate"
      ]
    },
    {
      "cell_type": "code",
      "source": [
        "from diffusers import DiffusionPipeline, LCMScheduler\n",
        "from PIL import Image\n",
        "from IPython.display import display\n",
        "\n",
        "pipe = DiffusionPipeline.from_pretrained(\"Lykon/dreamshaper-7\")\n",
        "pipe.scheduler = LCMScheduler.from_config(pipe.scheduler.config)\n",
        "pipe.load_lora_weights(\"latent-consistency/lcm-lora-sdv1-5\")  # ya, ini LoRA biasa\n",
        "\n",
        "while True:\n",
        "    # Meminta pengguna untuk memasukkan prompt\n",
        "    user_prompt = input(\"Masukkan prompt untuk inferensi (atau ketik 'exit' untuk keluar): \")\n",
        "\n",
        "    # Keluar dari loop jika pengguna memasukkan 'exit'\n",
        "    if user_prompt.lower() == 'exit':\n",
        "        break\n",
        "\n",
        "    # Mengukur waktu awal\n",
        "    start_time = time.time()\n",
        "\n",
        "    # Menjalankan inferensi dengan prompt yang dimasukkan pengguna\n",
        "    results = pipe(\n",
        "        prompt=user_prompt,\n",
        "        num_inference_steps=4,\n",
        "        guidance_scale=0.3,\n",
        "        nsfw=False\n",
        "    )\n",
        "\n",
        "    # Mengukur waktu akhir\n",
        "    end_time = time.time()\n",
        "\n",
        "    # Menghitung latensi dalam detik\n",
        "    latency_seconds = end_time - start_time\n",
        "\n",
        "    # Konversi latensi ke menit dan detik\n",
        "    latency_minutes = int(latency_seconds // 60)\n",
        "    remaining_seconds = latency_seconds % 60\n",
        "\n",
        "    print(f\"Latensi: {latency_minutes} menit {remaining_seconds:.2f} detik\")\n",
        "\n",
        "    # Menampilkan gambar di Google Colab\n",
        "    display(results.images[0])\n"
      ],
      "metadata": {
        "id": "KTCowD-UpUBm"
      },
      "execution_count": null,
      "outputs": []
    }
  ]
}